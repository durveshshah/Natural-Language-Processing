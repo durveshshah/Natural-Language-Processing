{
  "nbformat": 4,
  "nbformat_minor": 0,
  "metadata": {
    "kernelspec": {
      "display_name": "Python 3",
      "language": "python",
      "name": "python3"
    },
    "language_info": {
      "codemirror_mode": {
        "name": "ipython",
        "version": 3
      },
      "file_extension": ".py",
      "mimetype": "text/x-python",
      "name": "python",
      "nbconvert_exporter": "python",
      "pygments_lexer": "ipython3",
      "version": "3.7.9"
    },
    "papermill": {
      "default_parameters": {},
      "duration": 140.770978,
      "end_time": "2021-03-02T10:57:21.565306",
      "environment_variables": {},
      "exception": null,
      "input_path": "__notebook__.ipynb",
      "output_path": "__notebook__.ipynb",
      "parameters": {},
      "start_time": "2021-03-02T10:55:00.794328",
      "version": "2.2.2"
    },
    "colab": {
      "name": "preprocessing Final.ipynb",
      "provenance": [],
      "collapsed_sections": []
    }
  },
  "cells": [
    {
      "cell_type": "code",
      "metadata": {
        "_cell_guid": "79c7e3d0-c299-4dcb-8224-4455121ee9b0",
        "_uuid": "d629ff2d2480ee46fbb7e2d37f6b5fab8052498a",
        "execution": {
          "iopub.execute_input": "2021-03-02T10:55:06.573722Z",
          "iopub.status.busy": "2021-03-02T10:55:06.572906Z",
          "iopub.status.idle": "2021-03-02T10:55:08.902153Z",
          "shell.execute_reply": "2021-03-02T10:55:08.901435Z"
        },
        "papermill": {
          "duration": 2.349386,
          "end_time": "2021-03-02T10:55:08.902374",
          "exception": false,
          "start_time": "2021-03-02T10:55:06.552988",
          "status": "completed"
        },
        "tags": [],
        "id": "GQx9HJPYLuEs"
      },
      "source": [
        "import numpy as np \n",
        "import pandas as pd \n",
        "import torch\n",
        "import os\n",
        "from io import open\n",
        "import unicodedata\n",
        "import string\n",
        "import re\n",
        "import random\n",
        "import matplotlib.pyplot as plt\n",
        "import seaborn\n",
        "seaborn.set_context(context=\"talk\")\n",
        "%matplotlib inline"
      ],
      "execution_count": null,
      "outputs": []
    },
    {
      "cell_type": "markdown",
      "metadata": {
        "papermill": {
          "duration": 0.010425,
          "end_time": "2021-03-02T10:55:09.335769",
          "exception": false,
          "start_time": "2021-03-02T10:55:09.325344",
          "status": "completed"
        },
        "tags": [],
        "id": "D0KLclfULuEz"
      },
      "source": [
        "## Preprocessing the dataset\n",
        "* Extract and split the text files into train, validation and test sets.\n",
        "* Store the 3 sets in csv format for further reference"
      ]
    },
    {
      "cell_type": "code",
      "metadata": {
        "execution": {
          "iopub.execute_input": "2021-03-02T10:55:09.361125Z",
          "iopub.status.busy": "2021-03-02T10:55:09.360374Z",
          "iopub.status.idle": "2021-03-02T10:55:09.362919Z",
          "shell.execute_reply": "2021-03-02T10:55:09.363620Z"
        },
        "papermill": {
          "duration": 0.017178,
          "end_time": "2021-03-02T10:55:09.363794",
          "exception": false,
          "start_time": "2021-03-02T10:55:09.346616",
          "status": "completed"
        },
        "tags": [],
        "id": "5NJbvRmbLuE0"
      },
      "source": [
        "english_path = \"/content/europarl-v7.fr-en.en\"\n",
        "french_path = \"/content/europarl-v7.fr-en.en\""
      ],
      "execution_count": null,
      "outputs": []
    },
    {
      "cell_type": "code",
      "metadata": {
        "execution": {
          "iopub.execute_input": "2021-03-02T10:55:09.394814Z",
          "iopub.status.busy": "2021-03-02T10:55:09.394149Z",
          "iopub.status.idle": "2021-03-02T10:55:36.278557Z",
          "shell.execute_reply": "2021-03-02T10:55:36.277999Z"
        },
        "papermill": {
          "duration": 26.903802,
          "end_time": "2021-03-02T10:55:36.278718",
          "exception": false,
          "start_time": "2021-03-02T10:55:09.374916",
          "status": "completed"
        },
        "tags": [],
        "id": "UOwmtNoMLuE0",
        "colab": {
          "base_uri": "https://localhost:8080/",
          "height": 246
        },
        "outputId": "06d45268-fa99-43ab-e717-2e5f4ad6e290"
      },
      "source": [
        "def load_document(filename):\n",
        "    \n",
        "    file = open(filename, mode='rt', encoding='utf-8')\n",
        "    text = file.read()\n",
        "    file.close()\n",
        "    return text\n",
        "\n",
        "def doc_to_sentences(doc):\n",
        "    return doc.strip().split('\\n')\n",
        " \n",
        "def len_of_sentences(sentences):\n",
        "    length = [len(s.split()) for s in sentences]\n",
        "    return min(length), max(length)\n",
        " \n",
        "# English data\n",
        "doc = load_document(english_path)\n",
        "english_sentences = doc_to_sentences(doc)\n",
        "min_len, max_len = len_of_sentences(english_sentences)\n",
        "print('English: total sentences=%d, minimum=%d, maximum=%d' % (len(english_sentences), min_len, max_len))\n",
        " \n",
        "# French data\n",
        "doc = load_document(french_path)\n",
        "french_sentences = doc_to_sentences(doc)\n",
        "min_len, max_len = len_of_sentences(french_sentences)\n",
        "print('French: total sentences=%d, minimum=%d, maximum=%d' % (len(french_sentences), min_len, max_len))\n",
        "\n",
        "#Creating a dataframe\n",
        "data_frame = pd.DataFrame()\n",
        "data_frame['en'] =  english_sentences\n",
        "data_frame['fr'] = french_sentences\n",
        "print(f'Shape of Dataframe: {data_frame.shape}')\n",
        "data_frame.head()"
      ],
      "execution_count": null,
      "outputs": [
        {
          "output_type": "stream",
          "text": [
            "English: total sentences=2007723, minimum=0, maximum=668\n",
            "French: total sentences=2007723, minimum=0, maximum=668\n",
            "Shape of Dataframe: (2007723, 2)\n"
          ],
          "name": "stdout"
        },
        {
          "output_type": "execute_result",
          "data": {
            "text/html": [
              "<div>\n",
              "<style scoped>\n",
              "    .dataframe tbody tr th:only-of-type {\n",
              "        vertical-align: middle;\n",
              "    }\n",
              "\n",
              "    .dataframe tbody tr th {\n",
              "        vertical-align: top;\n",
              "    }\n",
              "\n",
              "    .dataframe thead th {\n",
              "        text-align: right;\n",
              "    }\n",
              "</style>\n",
              "<table border=\"1\" class=\"dataframe\">\n",
              "  <thead>\n",
              "    <tr style=\"text-align: right;\">\n",
              "      <th></th>\n",
              "      <th>en</th>\n",
              "      <th>fr</th>\n",
              "    </tr>\n",
              "  </thead>\n",
              "  <tbody>\n",
              "    <tr>\n",
              "      <th>0</th>\n",
              "      <td>Resumption of the session</td>\n",
              "      <td>Resumption of the session</td>\n",
              "    </tr>\n",
              "    <tr>\n",
              "      <th>1</th>\n",
              "      <td>I declare resumed the session of the European ...</td>\n",
              "      <td>I declare resumed the session of the European ...</td>\n",
              "    </tr>\n",
              "    <tr>\n",
              "      <th>2</th>\n",
              "      <td>Although, as you will have seen, the dreaded '...</td>\n",
              "      <td>Although, as you will have seen, the dreaded '...</td>\n",
              "    </tr>\n",
              "    <tr>\n",
              "      <th>3</th>\n",
              "      <td>You have requested a debate on this subject in...</td>\n",
              "      <td>You have requested a debate on this subject in...</td>\n",
              "    </tr>\n",
              "    <tr>\n",
              "      <th>4</th>\n",
              "      <td>In the meantime, I should like to observe a mi...</td>\n",
              "      <td>In the meantime, I should like to observe a mi...</td>\n",
              "    </tr>\n",
              "  </tbody>\n",
              "</table>\n",
              "</div>"
            ],
            "text/plain": [
              "                                                  en                                                 fr\n",
              "0                          Resumption of the session                          Resumption of the session\n",
              "1  I declare resumed the session of the European ...  I declare resumed the session of the European ...\n",
              "2  Although, as you will have seen, the dreaded '...  Although, as you will have seen, the dreaded '...\n",
              "3  You have requested a debate on this subject in...  You have requested a debate on this subject in...\n",
              "4  In the meantime, I should like to observe a mi...  In the meantime, I should like to observe a mi..."
            ]
          },
          "metadata": {
            "tags": []
          },
          "execution_count": 17
        }
      ]
    },
    {
      "cell_type": "code",
      "metadata": {
        "execution": {
          "iopub.execute_input": "2021-03-02T10:55:36.311955Z",
          "iopub.status.busy": "2021-03-02T10:55:36.310774Z",
          "iopub.status.idle": "2021-03-02T10:55:40.124397Z",
          "shell.execute_reply": "2021-03-02T10:55:40.123886Z"
        },
        "papermill": {
          "duration": 3.832431,
          "end_time": "2021-03-02T10:55:40.124589",
          "exception": false,
          "start_time": "2021-03-02T10:55:36.292158",
          "status": "completed"
        },
        "tags": [],
        "id": "ArSA53F2LuE1"
      },
      "source": [
        "data_frame['en'] = data_frame['en'].apply(lambda x:x.lower())\n",
        "data_frame['fr'] = data_frame['fr'].apply(lambda x:x.lower())"
      ],
      "execution_count": null,
      "outputs": []
    },
    {
      "cell_type": "code",
      "metadata": {
        "execution": {
          "iopub.execute_input": "2021-03-02T10:55:40.159320Z",
          "iopub.status.busy": "2021-03-02T10:55:40.158374Z",
          "iopub.status.idle": "2021-03-02T10:55:51.045115Z",
          "shell.execute_reply": "2021-03-02T10:55:51.045790Z"
        },
        "papermill": {
          "duration": 10.908044,
          "end_time": "2021-03-02T10:55:51.046000",
          "exception": false,
          "start_time": "2021-03-02T10:55:40.137956",
          "status": "completed"
        },
        "tags": [],
        "id": "Lns1jSOTLuE2",
        "colab": {
          "base_uri": "https://localhost:8080/"
        },
        "outputId": "e2618063-007e-41e6-a56c-489126434ea2"
      },
      "source": [
        "#splitting a dataset into train, validation and test sets\n",
        "test_df = data_frame.copy().sample(frac=0.5,\n",
        "                            random_state=42\n",
        "                            ).reset_index(drop=True)\n",
        "\n",
        "train_df = pd.concat([test_df, data_frame]).drop_duplicates(keep=False)\n",
        "\n",
        "val_df = train_df.copy().sample(frac=0.1,\n",
        "                            random_state=42\n",
        "                            ).reset_index(drop=True)\n",
        "\n",
        "train_df = pd.concat([val_df, train_df]).drop_duplicates(keep=False)\n",
        "\n",
        "print(f'shape of train_df: {train_df.shape}\\n shape of val_data: {val_df.shape}\\n\\\n",
        "shape of test_data: {test_df.shape}')\n"
      ],
      "execution_count": null,
      "outputs": [
        {
          "output_type": "stream",
          "text": [
            "shape of train_df: (874968, 2)\n",
            " shape of val_data: (97219, 2)\n",
            "shape of test_data: (1003862, 2)\n"
          ],
          "name": "stdout"
        }
      ]
    },
    {
      "cell_type": "markdown",
      "metadata": {
        "papermill": {
          "duration": 0.013894,
          "end_time": "2021-03-02T10:55:51.074575",
          "exception": false,
          "start_time": "2021-03-02T10:55:51.060681",
          "status": "completed"
        },
        "tags": [],
        "id": "KeCLac1cLuE2"
      },
      "source": [
        "### sample and filter the data to allow a feasible training regime\n",
        "\n",
        "> Indented block\n",
        "\n"
      ]
    },
    {
      "cell_type": "code",
      "metadata": {
        "execution": {
          "iopub.execute_input": "2021-03-02T10:56:05.382994Z",
          "iopub.status.busy": "2021-03-02T10:56:05.380761Z",
          "iopub.status.idle": "2021-03-02T10:57:16.869968Z",
          "shell.execute_reply": "2021-03-02T10:57:16.869301Z"
        },
        "papermill": {
          "duration": 71.532305,
          "end_time": "2021-03-02T10:57:16.870140",
          "exception": false,
          "start_time": "2021-03-02T10:56:05.337835",
          "status": "completed"
        },
        "tags": [],
        "id": "RvLONJ5CLuE3",
        "colab": {
          "base_uri": "https://localhost:8080/"
        },
        "outputId": "7da1632d-030a-465b-ae39-3fb3a13cf715"
      },
      "source": [
        "%time\n",
        "def filter_df(df, max_len):\n",
        "    size = 30000\n",
        "    m_df = df[:size]\n",
        "    for i, row in m_df.iterrows():\n",
        "        filtered_data = len(m_df.loc[i]['en'].split(' ')) < max_len and \\\n",
        "        len(m_df.loc[i]['fr'].split(' ')) < max_len\n",
        "        if filtered_data == False:\n",
        "            m_df.drop(i, inplace=True)\n",
        "        else:\n",
        "            continue    \n",
        "    return m_df\n",
        "\n",
        "# datasets filtering\n",
        "train_df['en'] = train_df['en'].apply(lambda x:str(x))\n",
        "train_df['fr'] = train_df['fr'].apply(lambda x:str(x))\n",
        "\n",
        "test_df['en'] = test_df['en'].apply(lambda x:str(x))\n",
        "test_df['fr'] = test_df['fr'].apply(lambda x:str(x))\n",
        "\n",
        "val_df['en'] = val_df['en'].apply(lambda x:str(x))\n",
        "val_df['fr'] = val_df['fr'].apply(lambda x:str(x))\n",
        "\n",
        "print(\"Train data filtering...\")\n",
        "train_data = filter_df(train_df, 40)\n",
        "print(\"Test data filtering...\")\n",
        "test_data = filter_df(test_df, 40)\n",
        "print(\"Validation data filtering...\")\n",
        "val_data = filter_df(val_df, 40)"
      ],
      "execution_count": null,
      "outputs": [
        {
          "output_type": "stream",
          "text": [
            "CPU times: user 5 µs, sys: 0 ns, total: 5 µs\n",
            "Wall time: 8.34 µs\n",
            "Train data filtering...\n"
          ],
          "name": "stdout"
        },
        {
          "output_type": "stream",
          "text": [
            "/usr/local/lib/python3.7/dist-packages/pandas/core/frame.py:4174: SettingWithCopyWarning: \n",
            "A value is trying to be set on a copy of a slice from a DataFrame\n",
            "\n",
            "See the caveats in the documentation: https://pandas.pydata.org/pandas-docs/stable/user_guide/indexing.html#returning-a-view-versus-a-copy\n",
            "  errors=errors,\n"
          ],
          "name": "stderr"
        },
        {
          "output_type": "stream",
          "text": [
            "Test data filtering...\n",
            "Validation data filtering...\n"
          ],
          "name": "stdout"
        }
      ]
    },
    {
      "cell_type": "code",
      "metadata": {
        "execution": {
          "iopub.execute_input": "2021-03-02T10:57:16.909437Z",
          "iopub.status.busy": "2021-03-02T10:57:16.908755Z",
          "iopub.status.idle": "2021-03-02T10:57:18.093166Z",
          "shell.execute_reply": "2021-03-02T10:57:18.092560Z"
        },
        "papermill": {
          "duration": 1.205721,
          "end_time": "2021-03-02T10:57:18.093337",
          "exception": false,
          "start_time": "2021-03-02T10:57:16.887616",
          "status": "completed"
        },
        "tags": [],
        "id": "TrXtouQQLuE3"
      },
      "source": [
        "train_data.to_csv('/content/train.csv', index=False)\n",
        "test_data.to_csv('/content/test.csv', index=False)\n",
        "val_data.to_csv('/content/val.csv', index=False)"
      ],
      "execution_count": null,
      "outputs": []
    }
  ]
}